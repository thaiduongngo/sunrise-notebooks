{
 "cells": [
  {
   "cell_type": "markdown",
   "id": "a259ee69-267c-449c-95b2-afdbd9460e62",
   "metadata": {},
   "source": [
    "# Linear Regression"
   ]
  },
  {
   "cell_type": "code",
   "execution_count": 1,
   "id": "0afc7017-c374-45dd-89f5-4b93a90e7ce7",
   "metadata": {},
   "outputs": [],
   "source": [
    "import numpy as np\n",
    "from sklearn.linear_model import LinearRegression"
   ]
  },
  {
   "cell_type": "markdown",
   "id": "9c890811-833c-48ac-af94-09289cc6a125",
   "metadata": {},
   "source": [
    "## Self-created dataset\n",
    "\n",
    "**y = fx(w,b) = wx + b**\n",
    "\n",
    "y = 2x - 3; where w=2 and b=-3"
   ]
  },
  {
   "cell_type": "code",
   "execution_count": 2,
   "id": "81e331f2",
   "metadata": {},
   "outputs": [],
   "source": [
    "X = np.array([[1], [2], [3], [4]])\n",
    "y = np.dot(X, np.array([2])) - 3"
   ]
  },
  {
   "cell_type": "markdown",
   "id": "253bf94d-067b-4a28-a14c-67cb6633e1ba",
   "metadata": {},
   "source": [
    "### Create a model and fit data into the model"
   ]
  },
  {
   "cell_type": "code",
   "execution_count": 3,
   "id": "863d9e01",
   "metadata": {},
   "outputs": [],
   "source": [
    "model = LinearRegression()\n",
    "model.n_jobs = 2\n",
    "fit_model = model.fit(X, y)"
   ]
  },
  {
   "cell_type": "code",
   "execution_count": 4,
   "id": "e162db0b",
   "metadata": {},
   "outputs": [
    {
     "data": {
      "text/plain": [
       "1.0"
      ]
     },
     "execution_count": 4,
     "metadata": {},
     "output_type": "execute_result"
    }
   ],
   "source": [
    "fit_model.score(X, y)"
   ]
  },
  {
   "cell_type": "code",
   "execution_count": 5,
   "id": "461a3204",
   "metadata": {},
   "outputs": [
    {
     "data": {
      "text/plain": [
       "np.float64(2.0)"
      ]
     },
     "execution_count": 5,
     "metadata": {},
     "output_type": "execute_result"
    }
   ],
   "source": [
    "fit_model.coef_[0]"
   ]
  },
  {
   "cell_type": "code",
   "execution_count": 6,
   "id": "4c7f1659",
   "metadata": {},
   "outputs": [
    {
     "data": {
      "text/plain": [
       "np.float64(-3.0)"
      ]
     },
     "execution_count": 6,
     "metadata": {},
     "output_type": "execute_result"
    }
   ],
   "source": [
    "fit_model.intercept_"
   ]
  },
  {
   "cell_type": "markdown",
   "id": "b6a7d347-47a9-4198-ad2d-8451959de4c9",
   "metadata": {},
   "source": [
    "### Predict"
   ]
  },
  {
   "cell_type": "code",
   "execution_count": 7,
   "id": "5a2f7252",
   "metadata": {},
   "outputs": [
    {
     "data": {
      "text/plain": [
       "np.float64(17.0)"
      ]
     },
     "execution_count": 7,
     "metadata": {},
     "output_type": "execute_result"
    }
   ],
   "source": [
    "y_hat = fit_model.predict(np.array([[10]]))\n",
    "y_hat[0]"
   ]
  }
 ],
 "metadata": {
  "kernelspec": {
   "display_name": "Python 3 (ipykernel)",
   "language": "python",
   "name": "python3"
  },
  "language_info": {
   "codemirror_mode": {
    "name": "ipython",
    "version": 3
   },
   "file_extension": ".py",
   "mimetype": "text/x-python",
   "name": "python",
   "nbconvert_exporter": "python",
   "pygments_lexer": "ipython3",
   "version": "3.12.7"
  },
  "widgets": {
   "application/vnd.jupyter.widget-state+json": {
    "state": {},
    "version_major": 2,
    "version_minor": 0
   }
  }
 },
 "nbformat": 4,
 "nbformat_minor": 5
}
